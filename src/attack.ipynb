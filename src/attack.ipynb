{
 "cells": [
  {
   "cell_type": "code",
   "execution_count": null,
   "metadata": {},
   "outputs": [],
   "source": [
    "import glob\n",
    "import math\n",
    "import model\n",
    "import random\n",
    "import librosa\n",
    "import numpy as np\n",
    "from scipy.io.wavfile import write"
   ]
  },
  {
   "cell_type": "code",
   "execution_count": null,
   "metadata": {},
   "outputs": [],
   "source": [
    "classDict = {'Close_door': 0, 'Close_gate': 1, 'Doraemon': 2, 'Lock_door': 3, 'Lock_gate': 4, 'Open_door': 5, 'Open_gate': 6, 'Turn_off_air_conditioner': 7, 'Turn_off_fan': 8, 'Turn_off_light': 9, 'Turn_off_TV': 10, 'Turn_on_air_conditioner': 11, 'Turn_on_fan': 12, 'Turn_on_light': 13, 'Turn_on_TV': 14}\n",
    "\n",
    "idClass = {0:'Close_door', 1:'Close_gate', 2:'Doraemon', 3:'Lock_door', 4:'Lock_gate', 5:'Open_door', 6:'Open_gate', 7:'Turn_off_air_conditioner', 8:'Turn_off_fan', 9:'Turn_off_light', 10:'Turn_off_TV', 11:'Turn_on_air_conditioner', 12:'Turn_on_fan', 13:'Turn_on_light', 14:'Turn_on_TV'}\n",
    "\n",
    "numClass = 15"
   ]
  },
  {
   "cell_type": "code",
   "execution_count": null,
   "metadata": {},
   "outputs": [],
   "source": [
    "model = model.AttRNNSpeechModel(numClass, samplingrate = 8000, inputLength = 16000)\n",
    "\n",
    "model.load_weights('../check_point/model-attRNN.hdf5')"
   ]
  },
  {
   "cell_type": "code",
   "execution_count": null,
   "metadata": {},
   "outputs": [],
   "source": [
    "lr = 10/32768"
   ]
  }
 ],
 "metadata": {
  "kernelspec": {
   "display_name": "Python 3",
   "language": "python",
   "name": "python3"
  },
  "language_info": {
   "codemirror_mode": {
    "name": "ipython",
    "version": 3
   },
   "file_extension": ".py",
   "mimetype": "text/x-python",
   "name": "python",
   "nbconvert_exporter": "python",
   "pygments_lexer": "ipython3",
   "version": "3.8.5"
  }
 },
 "nbformat": 4,
 "nbformat_minor": 4
}
