{
 "cells": [
  {
   "cell_type": "code",
   "execution_count": 7,
   "metadata": {},
   "outputs": [],
   "source": [
    "import glob\n",
    "import math\n",
    "import numpy as np\n",
    "import pandas as pd\n",
    "import librosa\n",
    "import random\n",
    "from scipy.io.wavfile import write, read\n",
    "from scipy.signal import butter, lfilter, resample"
   ]
  },
  {
   "cell_type": "code",
   "execution_count": 8,
   "metadata": {},
   "outputs": [],
   "source": [
    "def get_noise_from_sound(signal,noise,SNR):\n",
    "    \n",
    "    RMS_s=math.sqrt(np.mean(signal**2))\n",
    "\n",
    "    #required RMS of noise\n",
    "    RMS_n=math.sqrt(RMS_s**2/(pow(10,SNR/10)))\n",
    "    \n",
    "    #current RMS of noise\n",
    "    RMS_n_current=math.sqrt(np.mean(noise**2))\n",
    "    noise=noise*(RMS_n/RMS_n_current)\n",
    "    \n",
    "    return noise"
   ]
  },
  {
   "cell_type": "code",
   "execution_count": 9,
   "metadata": {},
   "outputs": [
    {
     "name": "stdout",
     "output_type": "stream",
     "text": [
      "Close_door\n",
      "Close_gate\n",
      "Doraemon\n",
      "Lock_door\n",
      "Lock_gate\n",
      "Open_door\n",
      "Open_gate\n",
      "Turn_off_air_conditioner\n",
      "Turn_off_fan\n",
      "Turn_off_light\n",
      "Turn_off_TV\n",
      "Turn_on_air_conditioner\n",
      "Turn_on_fan\n",
      "Turn_on_light\n",
      "Turn_on_TV\n"
     ]
    }
   ],
   "source": [
    "data = glob.glob(\"../data_trimmed/*\")\n",
    "noiseFiles = glob.glob(\"../noise/*.wav\")\n",
    "\n",
    "noiseData = []\n",
    "for z in noiseFiles:\n",
    "    noise, _ = librosa.load(z, sr = 8000)\n",
    "    noiseName = z.replace(\"\\\\\",\"/\").split(\"/\")[-1].split(\".\")[0]\n",
    "    noiseData.append((noise, noiseName))\n",
    "\n",
    "for x in data:\n",
    "    className = x.replace(\"\\\\\",\"/\").split(\"/\")[-1]\n",
    "    print(className)\n",
    "    audiofiles = glob.glob(\"../data_trimmed/\" + className + \"/*.wav\")\n",
    "    for y in audiofiles:\n",
    "        audio, sr = librosa.load(y, sr = 8000, )\n",
    "        fileName = y.replace(\"\\\\\",\"/\").split(\"/\")[-1].split(\".\")[0]\n",
    "        outFile = \"../data_added_noise/\" + className + \"/\" + fileName + \".wav\"\n",
    "        write(outFile, sr, audio)\n",
    "        for z in noiseData:\n",
    "            noise, noiseName = z\n",
    "            randomPos = random.randint(0, len(noise)-len(audio))\n",
    "            newNoise = get_noise_from_sound(audio, noise[randomPos:len(audio)+randomPos], 0)\n",
    "            outFile = \"../data_added_noise/\" + className + \"/\" + fileName + \"_\" + noiseName + \".wav\"\n",
    "            write(outFile, 8000, audio + newNoise)"
   ]
  },
  {
   "cell_type": "code",
   "execution_count": null,
   "metadata": {},
   "outputs": [],
   "source": []
  }
 ],
 "metadata": {
  "kernelspec": {
   "display_name": "Python 3",
   "language": "python",
   "name": "python3"
  },
  "language_info": {
   "codemirror_mode": {
    "name": "ipython",
    "version": 3
   },
   "file_extension": ".py",
   "mimetype": "text/x-python",
   "name": "python",
   "nbconvert_exporter": "python",
   "pygments_lexer": "ipython3",
   "version": "3.8.5"
  }
 },
 "nbformat": 4,
 "nbformat_minor": 4
}
